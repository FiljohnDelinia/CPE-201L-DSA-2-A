{
  "nbformat": 4,
  "nbformat_minor": 0,
  "metadata": {
    "colab": {
      "provenance": [],
      "authorship_tag": "ABX9TyMvUehBqmVqmM5LsU4pNEof",
      "include_colab_link": true
    },
    "kernelspec": {
      "name": "python3",
      "display_name": "Python 3"
    },
    "language_info": {
      "name": "python"
    }
  },
  "cells": [
    {
      "cell_type": "markdown",
      "metadata": {
        "id": "view-in-github",
        "colab_type": "text"
      },
      "source": [
        "<a href=\"https://colab.research.google.com/github/FiljohnDelinia/CPE-201L-DSA-2-A/blob/main/Array.ipynb\" target=\"_parent\"><img src=\"https://colab.research.google.com/assets/colab-badge.svg\" alt=\"Open In Colab\"/></a>"
      ]
    },
    {
      "cell_type": "code",
      "execution_count": 22,
      "metadata": {
        "colab": {
          "base_uri": "https://localhost:8080/"
        },
        "id": "_mS1-f293H9A",
        "outputId": "8176914a-6e32-4baa-a75f-b821d1b450de"
      },
      "outputs": [
        {
          "output_type": "stream",
          "name": "stdout",
          "text": [
            "[Constructor] Apple created.\n",
            "[Constructor] Banana created.\n",
            "[Constructor] Broccoli created.\n",
            "[Constructor] Lettuce created.\n",
            "\n",
            "===== Jenna's Grocery List =====\n",
            "[Destructor] Lettuce destroyed.\n",
            "Apple      PHP10   x 7   = PHP70\n",
            "Banana     PHP10   x 8   = PHP80\n",
            "Broccoli   PHP60   x 12  = PHP720\n",
            "Lettuce    PHP50   x 10  = PHP500\n",
            "\n",
            "Total Sum: PHP 1370\n",
            "\n",
            "===== Deleting Lettuce =====\n",
            "[Destructor] Lettuce destroyed.\n",
            "\n",
            "===== Updated Grocery List =====\n",
            "Apple      PHP10   x 7   = PHP70\n",
            "Banana     PHP10   x 8   = PHP80\n",
            "Broccoli   PHP60   x 12  = PHP720\n",
            "\n",
            "Updated Total Sum: PHP 870\n"
          ]
        }
      ],
      "source": [
        "def traverse_array(arr):\n",
        "    \"\"\"Function to traverse and print all elements in the array\"\"\"\n",
        "    print(\"Traversing the array:\")\n",
        "    for i, element in enumerate(arr):\n",
        "        print(f\"Index {i}: {element}\")\n",
        "\n",
        "def reverse(arr):\n",
        "    reversed_arr = arr[::-1]\n",
        "    print(reversed_arr)\n",
        "\n",
        "def sort(arr):\n",
        "    sorted_arr = sorted(arr)\n",
        "    print(sorted_arr)\n",
        "\n",
        "def insert_element(arr, element):\n",
        "    arr.append(element)\n",
        "    print(arr)\n",
        "\n",
        "def delete_element(arr, index):\n",
        "    if 0 <= index < len(arr):\n",
        "        del arr[index]\n",
        "        print(arr)\n",
        "    else:\n",
        "        print(\"Invalid index.\")\n",
        "\n",
        "def modify_element(arr, index, new_element):\n",
        "    if 0 <= index < len(arr):\n",
        "        arr[index] = new_element\n",
        "        print(arr)\n",
        "    else:\n",
        "        print(\"Invalid index.\")\n",
        "\n",
        "def main():\n",
        "    # Initialize an array\n",
        "    arr = [10, 20, 30, 40, 50]\n",
        "    print(\"Original array:\", arr)\n",
        "\n",
        "    while True:\n",
        "        print(\"\\nMenu:\")\n",
        "        print(\"1. Traverse array\")\n",
        "        print(\"2. Reverse array\")\n",
        "        print(\"3. Sort array\")\n",
        "        print(\"4. Insert element\")\n",
        "        print(\"5. Delete element\")\n",
        "        print(\"6. Modify element\")\n",
        "        print(\"7. Exit\")\n",
        "\n",
        "        choice = input(\"Enter your choice (1-7): \")\n",
        "\n",
        "        if choice == '1':\n",
        "            traverse_array(arr)\n",
        "        elif choice == '2':\n",
        "            reverse(arr)\n",
        "        elif choice == '3':\n",
        "            sort(arr)\n",
        "        elif choice == '4':\n",
        "            element = int(input(\"Enter the element to insert: \"))\n",
        "            insert_element(arr, element)\n",
        "        elif choice == '5':\n",
        "            index = int(input(\"Enter the index to delete: \"))\n",
        "            delete_element(arr, index)\n",
        "        elif choice == '6':\n",
        "            index = int(input(\"Enter the index to modify: \"))\n",
        "            new_element = int(input(\"Enter the new element: \"))\n",
        "            modify_element(arr, index, new_element)\n",
        "        elif choice == '7':\n",
        "            print(\"Exiting program.\")\n",
        "            break\n",
        "        else:\n",
        "            print(\"Invalid choice. Please enter a number between 1 and 7.\")\n",
        "\n",
        "\n",
        "if __name__ == \"__main__\":\n",
        "    main()"
      ]
    }
  ]
}