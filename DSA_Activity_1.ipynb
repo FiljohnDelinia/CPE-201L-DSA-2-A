{
  "nbformat": 4,
  "nbformat_minor": 0,
  "metadata": {
    "colab": {
      "provenance": [],
      "authorship_tag": "ABX9TyNRTtjvZerrmABCRENE3JHt",
      "include_colab_link": true
    },
    "kernelspec": {
      "name": "python3",
      "display_name": "Python 3"
    },
    "language_info": {
      "name": "python"
    }
  },
  "cells": [
    {
      "cell_type": "markdown",
      "metadata": {
        "id": "view-in-github",
        "colab_type": "text"
      },
      "source": [
        "<a href=\"https://colab.research.google.com/github/FiljohnDelinia/CPE-201L-DSA-2-A/blob/main/DSA_Activity_1.ipynb\" target=\"_parent\"><img src=\"https://colab.research.google.com/assets/colab-badge.svg\" alt=\"Open In Colab\"/></a>"
      ]
    },
    {
      "cell_type": "markdown",
      "source": [
        "**AREA OF A CIRCLE**"
      ],
      "metadata": {
        "id": "KeRM6jyg4HV_"
      }
    },
    {
      "cell_type": "code",
      "source": [
        "import math\n",
        "\n",
        "def circle_area(radius):\n",
        "  return math.pi * radius**2\n",
        "\n",
        "radius = input(\"Enter the radius of the circle: \")\n",
        "radius = float(radius)\n",
        "\n",
        "area = circle_area(radius)\n",
        "print(f\"The area of a circle with radius {radius} is {area}\")"
      ],
      "metadata": {
        "colab": {
          "base_uri": "https://localhost:8080/"
        },
        "id": "jcS4DfNezqIt",
        "outputId": "15b98ceb-77c1-41c3-f4ec-67dadf311189"
      },
      "execution_count": 36,
      "outputs": [
        {
          "output_type": "stream",
          "name": "stdout",
          "text": [
            "Enter the radius of the circle: 12\n",
            "The area of a circle with radius 12.0 is 452.3893421169302\n"
          ]
        }
      ]
    },
    {
      "cell_type": "code",
      "source": [
        "import math\n",
        "\n",
        "def circle_area_circumference(circumference):\n",
        "  radius = circumference / (2 * math.pi)\n",
        "  return math.pi * radius**2\n",
        "\n",
        "circumference = input(\"Enter the circumference of the circle: \")\n",
        "circumference = float(circumference)\n",
        "\n",
        "area = circle_area_circumference(circumference)\n",
        "print(f\"The area of a circle with circumference {circumference} is {area}\")"
      ],
      "metadata": {
        "colab": {
          "base_uri": "https://localhost:8080/"
        },
        "id": "p_DcE-dF0giE",
        "outputId": "3a31c27a-4bd7-4c89-b16f-6f2a0eef9850"
      },
      "execution_count": 45,
      "outputs": [
        {
          "output_type": "stream",
          "name": "stdout",
          "text": [
            "Enter the circumference of the circle: 12\n",
            "The area of a circle with circumference 12.0 is 11.459155902616464\n"
          ]
        }
      ]
    },
    {
      "cell_type": "code",
      "source": [
        "import math\n",
        "\n",
        "print(\"Area of a circle\")\n",
        "radius = input(\"Enter the radius of the circle: \")\n",
        "radius = float(radius)\n",
        "\n",
        "area = math.pi * radius**2\n",
        "print(f\"The area of a circle with radius {radius} is {area}\")"
      ],
      "metadata": {
        "colab": {
          "base_uri": "https://localhost:8080/"
        },
        "id": "F2_0M31p2Jw3",
        "outputId": "3e43fd67-6039-442e-9470-67390d084ca9"
      },
      "execution_count": 39,
      "outputs": [
        {
          "output_type": "stream",
          "name": "stdout",
          "text": [
            "Area of a circle\n",
            "Enter the radius of the circle: 12\n",
            "The area of a circle with radius 12.0 is 452.3893421169302\n"
          ]
        }
      ]
    },
    {
      "cell_type": "code",
      "source": [
        "import math\n",
        "\n",
        "print(\"Area of a circle\")\n",
        "circumference = input(\"Enter the circumference of the circle:\")\n",
        "circumference = float(circumference)\n",
        "\n",
        "area = math.pi * circumference**2\n",
        "print (f\"The area of a circle with circumference {circumference} is {area}\")"
      ],
      "metadata": {
        "colab": {
          "base_uri": "https://localhost:8080/"
        },
        "id": "viSm5GNT2jjz",
        "outputId": "2eb0539f-daef-4cb8-a2de-27f1e844dcd1"
      },
      "execution_count": 41,
      "outputs": [
        {
          "output_type": "stream",
          "name": "stdout",
          "text": [
            "Area of a circle\n",
            "Enter the circumference of the circle:12\n",
            "The area of a circle with circumference 12.0 is 452.3893421169302\n"
          ]
        }
      ]
    },
    {
      "cell_type": "code",
      "source": [
        "import math\n",
        "\n",
        "print (\"Area of a circle\")\n",
        "print (\"Choose between two :)\")\n",
        "print (\"1. Radius\")\n",
        "print (\"2. Circumference\")\n",
        "\n",
        "choice = input(\"Enter your choice (1 or 2): \")\n",
        "choice = int(choice)\n",
        "\n",
        "if choice == 1:\n",
        "  radius = input(\"Enter the radius of the circle:\")\n",
        "  radius = float(radius)\n",
        "  area = math.pi * radius**2\n",
        "  print (f\"the area of a circle with radius {radius} is {area}\")\n",
        "\n",
        "elif choice == 2:\n",
        "  circumference = input(\"Enter the circumference of the circle:\")\n",
        "  circumference = float(circumference)\n",
        "  area = math.pi * circumference**2\n",
        "\n",
        "  print (f\"the area of a circle with circumference {circumference} is {area}\")\n",
        "\n",
        "else:\n",
        "  print(\"Invalid choice. Please enter 1 or 2.\")\n"
      ],
      "metadata": {
        "colab": {
          "base_uri": "https://localhost:8080/"
        },
        "id": "LhoFLFHi4oIj",
        "outputId": "ede4d0c7-d16d-4212-d87d-c9c401fa327d"
      },
      "execution_count": 44,
      "outputs": [
        {
          "output_type": "stream",
          "name": "stdout",
          "text": [
            "Area of a circle\n",
            "Choose between two :)\n",
            "1. Radius\n",
            "2. Circumference\n",
            "Enter your choice (1 or 2): 1\n",
            "Enter the radius of the circle:12\n",
            "the area of a circle with radius 12.0 is 452.3893421169302\n"
          ]
        }
      ]
    }
  ]
}