{
  "nbformat": 4,
  "nbformat_minor": 0,
  "metadata": {
    "colab": {
      "provenance": [],
      "authorship_tag": "ABX9TyMkXkCYOS2rvdeeircSXY77",
      "include_colab_link": true
    },
    "kernelspec": {
      "name": "python3",
      "display_name": "Python 3"
    },
    "language_info": {
      "name": "python"
    }
  },
  "cells": [
    {
      "cell_type": "markdown",
      "metadata": {
        "id": "view-in-github",
        "colab_type": "text"
      },
      "source": [
        "<a href=\"https://colab.research.google.com/github/FiljohnDelinia/CPE-201L-DSA-2-A/blob/main/DSA_Lab_Report_1.ipynb\" target=\"_parent\"><img src=\"https://colab.research.google.com/assets/colab-badge.svg\" alt=\"Open In Colab\"/></a>"
      ]
    },
    {
      "cell_type": "code",
      "execution_count": null,
      "metadata": {
        "colab": {
          "base_uri": "https://localhost:8080/"
        },
        "id": "c8omUvoGwsYl",
        "outputId": "d9c32cf9-614c-4113-d242-31d7b5145dd0"
      },
      "outputs": [
        {
          "output_type": "stream",
          "name": "stdout",
          "text": [
            "Enter the name of the polygon: square\n",
            "Enter the number of sides: 4\n",
            "Enter the area of the polygon: 10\n",
            "\n",
            "Polygon Details:\n",
            "Name: square\n",
            "Number of Sides: 4\n",
            "Area: 10.0\n"
          ]
        }
      ],
      "source": [
        "class Polygon:\n",
        "    def __init__(self, name, sides, area):\n",
        "        if sides < 3:\n",
        "            raise ValueError(\"A polygon must have at least 3 sides.\")\n",
        "        if area <= 0:\n",
        "            raise ValueError(\"Area must be a positive value.\")\n",
        "\n",
        "        self.name = name\n",
        "        self.sides = sides\n",
        "        self.area = area\n",
        "\n",
        "    def display(self):\n",
        "        print(\"\\nPolygon Details:\")\n",
        "        print(\"Name:\", self.name)\n",
        "        print(\"Number of Sides:\", self.sides)\n",
        "        print(\"Area:\", self.area)\n",
        "\n",
        "try:\n",
        "    name = input(\"Enter the name of the polygon: \")\n",
        "    sides = int(input(\"Enter the number of sides: \"))\n",
        "    area = float(input(\"Enter the area of the polygon: \"))\n",
        "\n",
        "    polygon = Polygon(name, sides, area)\n",
        "    polygon.display()\n",
        "\n",
        "except ValueError as e:\n",
        "    print(\"Error:\", e)\n"
      ]
    }
  ]
}