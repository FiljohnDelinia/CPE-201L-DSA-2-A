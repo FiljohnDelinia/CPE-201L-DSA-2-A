{
  "nbformat": 4,
  "nbformat_minor": 0,
  "metadata": {
    "colab": {
      "provenance": [],
      "authorship_tag": "ABX9TyOxycx+OhW9SRpF6Omqhs7V",
      "include_colab_link": true
    },
    "kernelspec": {
      "name": "python3",
      "display_name": "Python 3"
    },
    "language_info": {
      "name": "python"
    }
  },
  "cells": [
    {
      "cell_type": "markdown",
      "metadata": {
        "id": "view-in-github",
        "colab_type": "text"
      },
      "source": [
        "<a href=\"https://colab.research.google.com/github/FiljohnDelinia/CPE-201L-DSA-2-A/blob/main/DSA_Lab_Report_2_C.ipynb\" target=\"_parent\"><img src=\"https://colab.research.google.com/assets/colab-badge.svg\" alt=\"Open In Colab\"/></a>"
      ]
    },
    {
      "cell_type": "code",
      "execution_count": 4,
      "metadata": {
        "colab": {
          "base_uri": "https://localhost:8080/"
        },
        "id": "CQPLwOEWeVzQ",
        "outputId": "964bb39b-0f24-4fc6-cbc2-05c012d4ca29"
      },
      "outputs": [
        {
          "output_type": "stream",
          "name": "stdout",
          "text": [
            "Min: -2\n",
            "Max: 9\n"
          ]
        }
      ],
      "source": [
        "def find_min_max(seq):\n",
        "    if len(seq) == 1:\n",
        "        return seq[0], seq[0]\n",
        "\n",
        "    min_rest, max_rest = find_min_max(seq[1:])\n",
        "    return (seq[0] if seq[0] < min_rest else min_rest,\n",
        "            seq[0] if seq[0] > max_rest else max_rest)\n",
        "\n",
        "data = [3, 7, 1, 9, -2, 5]\n",
        "min_val, max_val = find_min_max(data)\n",
        "print(\"Min:\", min_val)\n",
        "print(\"Max:\", max_val)\n"
      ]
    }
  ]
}