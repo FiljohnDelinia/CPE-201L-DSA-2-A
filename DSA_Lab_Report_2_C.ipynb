{
  "nbformat": 4,
  "nbformat_minor": 0,
  "metadata": {
    "colab": {
      "provenance": [],
      "authorship_tag": "ABX9TyNroy0LiI6R+9A5uNeRkEs+",
      "include_colab_link": true
    },
    "kernelspec": {
      "name": "python3",
      "display_name": "Python 3"
    },
    "language_info": {
      "name": "python"
    }
  },
  "cells": [
    {
      "cell_type": "markdown",
      "metadata": {
        "id": "view-in-github",
        "colab_type": "text"
      },
      "source": [
        "<a href=\"https://colab.research.google.com/github/FiljohnDelinia/CPE-201L-DSA-2-A/blob/main/DSA_Lab_Report_2_C.ipynb\" target=\"_parent\"><img src=\"https://colab.research.google.com/assets/colab-badge.svg\" alt=\"Open In Colab\"/></a>"
      ]
    },
    {
      "cell_type": "code",
      "execution_count": 1,
      "metadata": {
        "colab": {
          "base_uri": "https://localhost:8080/"
        },
        "id": "CQPLwOEWeVzQ",
        "outputId": "0fd0e1f6-eda9-47e9-f327-53a69ac3d703"
      },
      "outputs": [
        {
          "output_type": "stream",
          "name": "stdout",
          "text": [
            "Min: -2\n",
            "Max: 9\n"
          ]
        }
      ],
      "source": [
        "data = [3, 7, 1, 9, -2, 5]\n",
        "\n",
        "min_val = data[0]\n",
        "max_val = data[0]\n",
        "\n",
        "for val in data:\n",
        "    if val < min_val:\n",
        "        min_val = val\n",
        "    if val > max_val:\n",
        "        max_val = val\n",
        "\n",
        "print(\"Min:\", min_val)\n",
        "print(\"Max:\", max_val)\n"
      ]
    }
  ]
}