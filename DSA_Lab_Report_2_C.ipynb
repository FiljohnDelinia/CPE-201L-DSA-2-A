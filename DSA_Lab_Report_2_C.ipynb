{
  "nbformat": 4,
  "nbformat_minor": 0,
  "metadata": {
    "colab": {
      "provenance": [],
      "authorship_tag": "ABX9TyMNdG30iM7H5jendx8W573y",
      "include_colab_link": true
    },
    "kernelspec": {
      "name": "python3",
      "display_name": "Python 3"
    },
    "language_info": {
      "name": "python"
    }
  },
  "cells": [
    {
      "cell_type": "markdown",
      "metadata": {
        "id": "view-in-github",
        "colab_type": "text"
      },
      "source": [
        "<a href=\"https://colab.research.google.com/github/FiljohnDelinia/CPE-201L-DSA-2-A/blob/main/DSA_Lab_Report_2_C.ipynb\" target=\"_parent\"><img src=\"https://colab.research.google.com/assets/colab-badge.svg\" alt=\"Open In Colab\"/></a>"
      ]
    },
    {
      "cell_type": "code",
      "execution_count": 1,
      "metadata": {
        "colab": {
          "base_uri": "https://localhost:8080/"
        },
        "id": "CQPLwOEWeVzQ",
        "outputId": "f0c7364c-d615-4e22-b259-197912ba9aef"
      },
      "outputs": [
        {
          "output_type": "stream",
          "name": "stdout",
          "text": [
            "Min: -2\n",
            "Max: 9\n"
          ]
        }
      ],
      "source": [
        "def find_min_max(seq, idx=0, min_val=None, max_val=None):\n",
        "    if idx == len(seq):\n",
        "        return min_val, max_val\n",
        "\n",
        "    val = seq[idx]\n",
        "    min_val = val if min_val is None or val < min_val else min_val\n",
        "    max_val = val if max_val is None or val > max_val else max_val\n",
        "\n",
        "    return find_min_max(seq, idx + 1, min_val, max_val)\n",
        "\n",
        "data = [3, 7, 1, 9, -2, 5]\n",
        "min_v, max_v = find_min_max(data)\n",
        "print(\"Min:\", min_v)\n",
        "print(\"Max:\", max_v)\n"
      ]
    }
  ]
}