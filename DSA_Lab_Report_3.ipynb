{
  "nbformat": 4,
  "nbformat_minor": 0,
  "metadata": {
    "colab": {
      "provenance": [],
      "authorship_tag": "ABX9TyMJiVzxXHiZKMMp1yeFFj47",
      "include_colab_link": true
    },
    "kernelspec": {
      "name": "python3",
      "display_name": "Python 3"
    },
    "language_info": {
      "name": "python"
    }
  },
  "cells": [
    {
      "cell_type": "markdown",
      "metadata": {
        "id": "view-in-github",
        "colab_type": "text"
      },
      "source": [
        "<a href=\"https://colab.research.google.com/github/FiljohnDelinia/CPE-201L-DSA-2-A/blob/main/DSA_Lab_Report_3.ipynb\" target=\"_parent\"><img src=\"https://colab.research.google.com/assets/colab-badge.svg\" alt=\"Open In Colab\"/></a>"
      ]
    },
    {
      "cell_type": "code",
      "execution_count": null,
      "metadata": {
        "colab": {
          "base_uri": "https://localhost:8080/"
        },
        "id": "0RT0D2XJWUBC",
        "outputId": "8f71864b-c2fe-4816-eecd-b08a3f8f7107"
      },
      "outputs": [
        {
          "output_type": "stream",
          "name": "stdout",
          "text": [
            "Test scores: [26, 49, 98, 87, 62, 75]\n",
            "Sum of even scores: 186\n"
          ]
        }
      ],
      "source": [
        "test_scores = [26,49,98,87,62,75]\n",
        "\n",
        "sum_even_scores = 0\n",
        "\n",
        "for score in test_scores:\n",
        "    if score % 2 == 0:\n",
        "        sum_even_scores += score\n",
        "\n",
        "print(\"Test scores:\", test_scores)\n",
        "print(\"Sum of even scores:\", sum_even_scores)"
      ]
    }
  ]
}