{
  "nbformat": 4,
  "nbformat_minor": 0,
  "metadata": {
    "colab": {
      "provenance": [],
      "authorship_tag": "ABX9TyOU//ANzwfqt6GY2zZGnIFs",
      "include_colab_link": true
    },
    "kernelspec": {
      "name": "python3",
      "display_name": "Python 3"
    },
    "language_info": {
      "name": "python"
    }
  },
  "cells": [
    {
      "cell_type": "markdown",
      "metadata": {
        "id": "view-in-github",
        "colab_type": "text"
      },
      "source": [
        "<a href=\"https://colab.research.google.com/github/FiljohnDelinia/CPE-201L-DSA-2-A/blob/main/DSA_Lab_Report_5.ipynb\" target=\"_parent\"><img src=\"https://colab.research.google.com/assets/colab-badge.svg\" alt=\"Open In Colab\"/></a>"
      ]
    },
    {
      "cell_type": "code",
      "execution_count": 1,
      "metadata": {
        "colab": {
          "base_uri": "https://localhost:8080/"
        },
        "id": "562m2bHmzBnJ",
        "outputId": "d0a346c0-8c4a-4467-e26f-31c51fbabced"
      },
      "outputs": [
        {
          "output_type": "stream",
          "name": "stdout",
          "text": [
            "Array items: [1, 2, 3, 4, 5, 6, 7, 8, 9, 10]\n",
            "Element at index 0: 1\n",
            "Element at index 1: 2\n",
            "Element at index 2: 3\n",
            "Element at index 3: 4\n",
            "Element at index 4: 5\n",
            "Element at index 5: 6\n",
            "Element at index 6: 7\n",
            "Element at index 7: 8\n",
            "Element at index 8: 9\n",
            "Element at index 9: 10\n",
            "Sum of all array elements: 55\n"
          ]
        }
      ],
      "source": [
        "import array\n",
        "\n",
        "numbers = [1,2,3,4,5,6,7,8,9,10]\n",
        "print(\"Array items:\", numbers)\n",
        "\n",
        "for i in range(len(numbers)):\n",
        "    print(f\"Element at index {i}:\", numbers[i])\n",
        "\n",
        "total = sum(numbers)\n",
        "print(\"Sum of all array elements:\", total)"
      ]
    },
    {
      "cell_type": "code",
      "source": [
        "import array\n",
        "\n",
        "numbers = [1,2,3,4,5,6,7,8,9,10]\n",
        "numbers.append(11)\n",
        "\n",
        "print(\"Array after appending:\", numbers)"
      ],
      "metadata": {
        "colab": {
          "base_uri": "https://localhost:8080/"
        },
        "id": "zSsc5CmczFd1",
        "outputId": "b350d304-76ca-48d7-a008-5414f62b3dee"
      },
      "execution_count": 2,
      "outputs": [
        {
          "output_type": "stream",
          "name": "stdout",
          "text": [
            "Array after appending: [1, 2, 3, 4, 5, 6, 7, 8, 9, 10, 11]\n"
          ]
        }
      ]
    },
    {
      "cell_type": "code",
      "source": [
        "import array\n",
        "\n",
        "numbers = [1,2,3,4,5,6,7,8,9,10]\n",
        "numbers.insert(1,88)\n",
        "\n",
        "print(\"Array after inserting before 2nd element:\", numbers)\n",
        "\n"
      ],
      "metadata": {
        "colab": {
          "base_uri": "https://localhost:8080/"
        },
        "id": "jbqI5L4pzHp1",
        "outputId": "59e3fc3b-e062-48d4-e644-302a8b2aabc0"
      },
      "execution_count": 3,
      "outputs": [
        {
          "output_type": "stream",
          "name": "stdout",
          "text": [
            "Array after inserting before 2nd element: [1, 88, 2, 3, 4, 5, 6, 7, 8, 9, 10]\n"
          ]
        }
      ]
    },
    {
      "cell_type": "code",
      "source": [
        "import array\n",
        "\n",
        "numbers = [1,2,3,4,5]\n",
        "numbers.reverse()\n",
        "\n",
        "print(\"Reversed array:\", numbers)"
      ],
      "metadata": {
        "colab": {
          "base_uri": "https://localhost:8080/"
        },
        "id": "P0Q-T0EAzJZt",
        "outputId": "9ec955cd-2864-4274-d343-6276f0eaee5a"
      },
      "execution_count": 4,
      "outputs": [
        {
          "output_type": "stream",
          "name": "stdout",
          "text": [
            "Reversed array: [5, 4, 3, 2, 1]\n"
          ]
        }
      ]
    },
    {
      "cell_type": "code",
      "source": [
        "import array\n",
        "\n",
        "numbers = [5,4,3,2,1]\n",
        "length = len(numbers)\n",
        "\n",
        "print(\"Length of the array:\", length)"
      ],
      "metadata": {
        "colab": {
          "base_uri": "https://localhost:8080/"
        },
        "id": "EZEbWAgfzMdl",
        "outputId": "e22ec048-130b-47c1-d16a-4926c64a4de6"
      },
      "execution_count": 5,
      "outputs": [
        {
          "output_type": "stream",
          "name": "stdout",
          "text": [
            "Length of the array: 5\n"
          ]
        }
      ]
    }
  ]
}