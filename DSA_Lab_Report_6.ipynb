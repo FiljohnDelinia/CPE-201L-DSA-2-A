{
  "nbformat": 4,
  "nbformat_minor": 0,
  "metadata": {
    "colab": {
      "provenance": [],
      "authorship_tag": "ABX9TyOCGKyzXi05IrtMGP9qwoN4",
      "include_colab_link": true
    },
    "kernelspec": {
      "name": "python3",
      "display_name": "Python 3"
    },
    "language_info": {
      "name": "python"
    }
  },
  "cells": [
    {
      "cell_type": "markdown",
      "metadata": {
        "id": "view-in-github",
        "colab_type": "text"
      },
      "source": [
        "<a href=\"https://colab.research.google.com/github/FiljohnDelinia/CPE-201L-DSA-2-A/blob/main/DSA_Lab_Report_6.ipynb\" target=\"_parent\"><img src=\"https://colab.research.google.com/assets/colab-badge.svg\" alt=\"Open In Colab\"/></a>"
      ]
    },
    {
      "cell_type": "code",
      "execution_count": 1,
      "metadata": {
        "colab": {
          "base_uri": "https://localhost:8080/"
        },
        "id": "L_ye4pT0nYhK",
        "outputId": "31de0240-e85d-47be-9612-ad699c6bf085"
      },
      "outputs": [
        {
          "output_type": "stream",
          "name": "stdout",
          "text": [
            "Linked List Datas:\n",
            "2 -> 3 -> 5 -> 7 -> 11 -> 13 -> 17 -> 19 \n",
            "Head: 2\n",
            "Tail: 19\n"
          ]
        }
      ],
      "source": [
        "class Node:\n",
        "    def __init__(self, data):\n",
        "        self.data = data\n",
        "        self.next = None\n",
        "\n",
        "class LinkedList:\n",
        "    def __init__(self):\n",
        "        self.head = None\n",
        "\n",
        "    def append(self, data):\n",
        "        new_node = Node(data)\n",
        "        if not self.head:\n",
        "            self.head = new_node\n",
        "        else:\n",
        "            current = self.head\n",
        "            while current.next:\n",
        "                current = current.next\n",
        "            current.next = new_node\n",
        "\n",
        "    def display(self):\n",
        "        if not self.head:\n",
        "            print(\"Linked List is empty.\")\n",
        "            return\n",
        "        current = self.head\n",
        "        print(\"Linked List Datas:\")\n",
        "        while current:\n",
        "            print(current.data, end=\" \")\n",
        "            if current.next:\n",
        "                print(\"-> \", end=\"\")\n",
        "            current = current.next\n",
        "        print()\n",
        "\n",
        "    def get_head(self):\n",
        "        return self.head.data if self.head else \"List is empty\"\n",
        "\n",
        "    def get_tail(self):\n",
        "        if not self.head:\n",
        "            return \"List is empty\"\n",
        "        current = self.head\n",
        "        while current.next:\n",
        "            current = current.next\n",
        "        return current.data\n",
        "\n",
        "def get_primes_below_20():\n",
        "    return [num for num in range(2, 20) if all(num % i != 0 for i in range(2, int(num**0.5) + 1))]\n",
        "\n",
        "if __name__ == \"__main__\":\n",
        "    primes = get_primes_below_20()\n",
        "    linked_list = LinkedList()\n",
        "\n",
        "    for prime in primes:\n",
        "        linked_list.append(prime)\n",
        "\n",
        "    linked_list.display()\n",
        "    print(f\"Head: {linked_list.get_head()}\")\n",
        "    print(f\"Tail: {linked_list.get_tail()}\")"
      ]
    }
  ]
}