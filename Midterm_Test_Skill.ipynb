{
  "nbformat": 4,
  "nbformat_minor": 0,
  "metadata": {
    "colab": {
      "provenance": [],
      "authorship_tag": "ABX9TyNnBXA0arAqH3CNfgPgsAFA",
      "include_colab_link": true
    },
    "kernelspec": {
      "name": "python3",
      "display_name": "Python 3"
    },
    "language_info": {
      "name": "python"
    }
  },
  "cells": [
    {
      "cell_type": "markdown",
      "metadata": {
        "id": "view-in-github",
        "colab_type": "text"
      },
      "source": [
        "<a href=\"https://colab.research.google.com/github/FiljohnDelinia/CPE-201L-DSA-2-A/blob/main/Midterm_Test_Skill.ipynb\" target=\"_parent\"><img src=\"https://colab.research.google.com/assets/colab-badge.svg\" alt=\"Open In Colab\"/></a>"
      ]
    },
    {
      "cell_type": "code",
      "execution_count": null,
      "metadata": {
        "id": "il_O94lqEY7e"
      },
      "outputs": [],
      "source": [
        "Arr = []\n",
        "\n",
        "for i in range(20, 50):\n",
        "    if i % 2 == 0:\n",
        "        Arr.append(i)\n",
        "\n",
        "def print_array():\n",
        "    print(\"\\nArray Elements:\")\n",
        "    for i in range(len(Arr)):\n",
        "        print(f\"{Arr[i]}\")\n",
        "\n",
        "def find_max():\n",
        "    max_element = Arr[0]\n",
        "    for i in range(1, len(Arr)):\n",
        "        if Arr[i] > max_element:\n",
        "            max_element = Arr[i]\n",
        "    print(\"\\nMaximum element in the array:\", max_element)\n",
        "\n",
        "def reversed_array():\n",
        "    reversed_arr = Arr[::-1]\n",
        "    print(\"\\nReversed array:\")\n",
        "    for element in reversed_arr:\n",
        "        print(element)\n",
        "\n",
        "while True:\n",
        "    print(\"\\nChoose an option:\")\n",
        "    print(\"1. Display Element\")\n",
        "    print(\"2. Find Maximum Element\")\n",
        "    print(\"3. Reverse Array\")\n",
        "    print(\"4. Exit\")\n",
        "\n",
        "    choice = input(\"Enter your choice: \")\n",
        "\n",
        "    if choice == \"1\":\n",
        "        print_array()\n",
        "    elif choice == \"2\":\n",
        "        find_max()\n",
        "    elif choice == \"3\":\n",
        "        reversed_array()\n",
        "    elif choice == \"4\":\n",
        "        print(\"\\nProgram terminated.\")\n",
        "        break\n",
        "    else:\n",
        "        print(\"\\nInvalid. Please choose again!\")\n"
      ]
    }
  ]
}