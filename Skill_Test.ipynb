{
  "nbformat": 4,
  "nbformat_minor": 0,
  "metadata": {
    "colab": {
      "provenance": [],
      "authorship_tag": "ABX9TyMInyODOxD2+ESgXscxqGdO",
      "include_colab_link": true
    },
    "kernelspec": {
      "name": "python3",
      "display_name": "Python 3"
    },
    "language_info": {
      "name": "python"
    }
  },
  "cells": [
    {
      "cell_type": "markdown",
      "metadata": {
        "id": "view-in-github",
        "colab_type": "text"
      },
      "source": [
        "<a href=\"https://colab.research.google.com/github/FiljohnDelinia/CPE-201L-DSA-2-A/blob/main/Skill_Test.ipynb\" target=\"_parent\"><img src=\"https://colab.research.google.com/assets/colab-badge.svg\" alt=\"Open In Colab\"/></a>"
      ]
    },
    {
      "cell_type": "code",
      "execution_count": 1,
      "metadata": {
        "colab": {
          "base_uri": "https://localhost:8080/"
        },
        "id": "pRnTpylEVkOz",
        "outputId": "f799db8e-ff8a-4b32-fcdd-b0664446686f"
      },
      "outputs": [
        {
          "output_type": "stream",
          "name": "stdout",
          "text": [
            "FILJOHN BAGOL DELINIA\n"
          ]
        }
      ],
      "source": [
        "class Queue:\n",
        "    def __init__(self):\n",
        "        self.items = []\n",
        "\n",
        "    def enqueue(self, item):\n",
        "        self.items.append(item)\n",
        "\n",
        "    def dequeue(self):\n",
        "        if not self.is_empty():\n",
        "            return self.items.pop(0)\n",
        "        else:\n",
        "            return None\n",
        "\n",
        "    def is_empty(self):\n",
        "        return len(self.items) == 0\n",
        "\n",
        "\n",
        "aqueue = Queue()\n",
        "\n",
        "aqueue.enqueue(\"FILJOHN\")\n",
        "aqueue.enqueue(\"BAGOL\")\n",
        "aqueue.enqueue(\"DELINIA\")\n",
        "\n",
        "output = []\n",
        "while not aqueue.is_empty():\n",
        "    output.append(str(aqueue.dequeue()))\n",
        "\n",
        "print(\" \".join(output))"
      ]
    }
  ]
}