{
  "nbformat": 4,
  "nbformat_minor": 0,
  "metadata": {
    "colab": {
      "provenance": [],
      "authorship_tag": "ABX9TyPF123OiplH3X4UV0IH93wZ",
      "include_colab_link": true
    },
    "kernelspec": {
      "name": "python3",
      "display_name": "Python 3"
    },
    "language_info": {
      "name": "python"
    }
  },
  "cells": [
    {
      "cell_type": "markdown",
      "metadata": {
        "id": "view-in-github",
        "colab_type": "text"
      },
      "source": [
        "<a href=\"https://colab.research.google.com/github/FiljohnDelinia/CPE-201L-DSA-2-A/blob/main/queue_practice.ipynb\" target=\"_parent\"><img src=\"https://colab.research.google.com/assets/colab-badge.svg\" alt=\"Open In Colab\"/></a>"
      ]
    },
    {
      "cell_type": "code",
      "execution_count": 3,
      "metadata": {
        "colab": {
          "base_uri": "https://localhost:8080/"
        },
        "id": "vbrfCBWQ8TQ9",
        "outputId": "87aa734b-065e-42db-d732-389ee2c846b1"
      },
      "outputs": [
        {
          "output_type": "stream",
          "name": "stdout",
          "text": [
            "Is empty? True\n",
            "Is full? True\n",
            "Queue is full\n",
            "After one dequeue:\n",
            "Mon\n",
            "Tue\n",
            "Is empty? False\n"
          ]
        }
      ],
      "source": [
        "class Queue:\n",
        "    def __init__(self, capacity=7):\n",
        "        self.queue = []\n",
        "        self.capacity = capacity\n",
        "\n",
        "    def enqueue(self, dataval):\n",
        "        # it adds element at the end of the queue if not full\n",
        "        if self.full_queue():\n",
        "            return \"Queue is full\"\n",
        "        elif dataval not in self.queue:\n",
        "            self.queue.append(dataval)\n",
        "            return True\n",
        "        else:\n",
        "            return False\n",
        "\n",
        "    def dequeue(self):\n",
        "        # it removes and return the front element (FIFO)\n",
        "        if self.empty_queue():\n",
        "            return \"Queue is empty\"\n",
        "        else:\n",
        "            return self.queue.pop(0)\n",
        "\n",
        "    def display(self):\n",
        "        # it shows elements from front to rear\n",
        "        for item in self.queue:\n",
        "            print(item)\n",
        "\n",
        "    def full_queue(self):\n",
        "        # it checks if the queue has reached its capacity\n",
        "        return len(self.queue) >= self.capacity\n",
        "\n",
        "    def empty_queue(self):\n",
        "        # it checks if the queue has no elements\n",
        "        return len(self.queue) == 0\n",
        "\n",
        "AQueue = Queue(capacity=3)\n",
        "\n",
        "print(\"Is empty?\", AQueue.empty_queue())  # True\n",
        "\n",
        "AQueue.enqueue(\"Sun\")\n",
        "AQueue.enqueue(\"Mon\")\n",
        "AQueue.enqueue(\"Tue\")\n",
        "print(\"Is full?\", AQueue.full_queue())    # True\n",
        "\n",
        "print(AQueue.enqueue(\"Wed\"))  # \"Queue is full\"\n",
        "\n",
        "AQueue.dequeue()\n",
        "print(\"After one dequeue:\")\n",
        "AQueue.display()\n",
        "\n",
        "print(\"Is empty?\", AQueue.empty_queue())  # False\n"
      ]
    }
  ]
}